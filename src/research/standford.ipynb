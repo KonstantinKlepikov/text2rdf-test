{
 "cells": [
  {
   "cell_type": "code",
   "execution_count": 1,
   "metadata": {},
   "outputs": [],
   "source": [
    "text = 'The current typing module lacks a way to restrict the use of inheritance or overriding at a typechecker level. This is a common feature in other object-oriented languages (such as Java), and is useful for reducing the potential space of behaviors of a class, easing reasoning.'"
   ]
  },
  {
   "cell_type": "code",
   "execution_count": 5,
   "metadata": {},
   "outputs": [
    {
     "name": "stdout",
     "output_type": "stream",
     "text": [
      "Text: The current typing module lacks a way to restrict the use of inheritance or overriding at a typechecker level. This is a common feature in other object-oriented languages (such as Java), and is useful for reducing the potential space of behaviors of a class, easing reasoning..\n",
      "Starting server with command: java -Xmx8G -cp /home/kklepikov/.stanfordnlp_resources/stanford-corenlp-4.5.3/* edu.stanford.nlp.pipeline.StanfordCoreNLPServer -port 9000 -timeout 60000 -threads 5 -maxCharLength 100000 -quiet True -serverProperties corenlp_server-ace29f4ce0d64d8c.props -preload openie\n",
      "|- {'subject': 'way', 'relation': 'restrict', 'object': 'use'}\n",
      "|- {'subject': 'current module', 'relation': 'lacks', 'object': 'way'}\n",
      "|- {'subject': 'typing module', 'relation': 'lacks', 'object': 'way'}\n",
      "|- {'subject': 'current typing module', 'relation': 'lacks', 'object': 'way'}\n",
      "|- {'subject': 'use', 'relation': 'overriding at', 'object': 'typechecker level'}\n",
      "|- {'subject': 'way', 'relation': 'restrict', 'object': 'use of inheritance'}\n",
      "|- {'subject': 'module', 'relation': 'lacks', 'object': 'way'}\n",
      "|- {'subject': 'This', 'relation': 'is common', 'object': 'languages'}\n",
      "|- {'subject': 'behaviors', 'relation': 'of space is', 'object': 'easing reasoning'}\n",
      "|- {'subject': 'common feature', 'relation': 'is in', 'object': 'other object oriented languages such Java'}\n",
      "Graph generated: graph.png.\n",
      "Corpus: ﻿According to this document, the city of Cumae in Ćolia, was, at an early period [...].\n",
      "Found 185 triples in the corpus.\n",
      "|- {'subject': 'city', 'relation': 'is in', 'object': 'Ćolia'}\n",
      "|- {'subject': 'Menapolus', 'relation': 'son of', 'object': 'Ithagenes'}\n",
      "|- {'subject': 'immigrants', 'relation': 'Among Menapolus is', 'object': 'son of Ithagenes'}\n",
      "[...]\n"
     ]
    }
   ],
   "source": [
    "from openie import StanfordOpenIE\n",
    "\n",
    "# https://stanfordnlp.github.io/CoreNLP/openie.html#api\n",
    "# Default value of openie.affinity_probability_cap was 1/3.\n",
    "properties = {\n",
    "    'openie.affinity_probability_cap': 2 / 3,\n",
    "}\n",
    "\n",
    "with StanfordOpenIE(properties=properties) as client:\n",
    "    print('Text: %s.' % text)\n",
    "    for triple in client.annotate(text):\n",
    "        print('|-', triple)\n",
    "\n",
    "    graph_image = 'graph.png'\n",
    "    client.generate_graphviz_graph(text, graph_image)\n",
    "    print('Graph generated: %s.' % graph_image)\n",
    "\n",
    "    with open('pg6130.txt', encoding='utf8') as r:\n",
    "        corpus = r.read().replace('\\n', ' ').replace('\\r', '')\n",
    "\n",
    "    triples_corpus = client.annotate(corpus[0:5000])\n",
    "    print('Corpus: %s [...].' % corpus[0:80])\n",
    "    print('Found %s triples in the corpus.' % len(triples_corpus))\n",
    "    for triple in triples_corpus[:3]:\n",
    "        print('|-', triple)\n",
    "    print('[...]')"
   ]
  }
 ],
 "metadata": {
  "kernelspec": {
   "display_name": "venv",
   "language": "python",
   "name": "python3"
  },
  "language_info": {
   "codemirror_mode": {
    "name": "ipython",
    "version": 3
   },
   "file_extension": ".py",
   "mimetype": "text/x-python",
   "name": "python",
   "nbconvert_exporter": "python",
   "pygments_lexer": "ipython3",
   "version": "3.10.6"
  }
 },
 "nbformat": 4,
 "nbformat_minor": 2
}
